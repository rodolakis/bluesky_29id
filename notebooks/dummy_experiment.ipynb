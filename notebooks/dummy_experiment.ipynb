{
 "cells": [
  {
   "cell_type": "code",
   "execution_count": 2,
   "metadata": {},
   "outputs": [],
   "source": [
    "import os\n",
    "\n",
    "from epics import caput, caget \n"
   ]
  },
  {
   "cell_type": "markdown",
   "metadata": {},
   "source": [
    "## Setup Experiment"
   ]
  },
  {
   "cell_type": "code",
   "execution_count": null,
   "metadata": {},
   "outputs": [],
   "source": [
    "from IEX_29id.utils.exp import Check_run\n",
    "\n",
    "##User setup variables\n",
    "username = \"Fanny\"\n",
    "scanIOC = \"Kappa\"\n",
    "mode = \"User\"\n",
    "\n",
    "run = Check_run()"
   ]
  },
  {
   "cell_type": "code",
   "execution_count": null,
   "metadata": {},
   "outputs": [],
   "source": [
    "##SET BEAMLINE MODE\n",
    "from IEX_29id.utils.exp import BL_Mode_Set\n",
    "from IEX_29id.utils.folders import logname_set \n",
    "\n",
    "if mode == 'Staff':\n",
    "    folder=\"b\" \n",
    "    BL_Mode_Set(\"Staff\")\n",
    "else:\n",
    "    folder=\"d\"\n",
    "    BL_Mode_Set(\"User\")\n",
    "\n",
    "## CREATE DATA FOLDER\n",
    "from IEX_29id.utils.folders import Make_DataFolder, Folder_mda\n",
    "ftp = False\n",
    "Make_DataFolder(run,folder,username,scanIOC,ftp)\n",
    "\n",
    "## SETUP SCAN SAVING\n",
    "set_scans = True\n",
    "\n",
    "if set_scans:\n",
    "    # Set up MDA folder:\n",
    "    Folder_mda(run,folder,username,scanIOC)\n",
    "    print(\"\\nScanIOC set to:\", scanIOC)\n",
    "    SaveStatus=caget('29id'+scanIOC+':saveData_status',as_string=True)\n",
    "    SaveMessage=caget('29id'+scanIOC+':saveData_message',as_string=True)\n",
    "    print(\"\\nSave Status \"+scanIOC+\": \"+SaveStatus+\" - \"+SaveMessage)\n",
    "    logname_set(scanIOC=scanIOC)\n"
   ]
  },
  {
   "cell_type": "markdown",
   "metadata": {},
   "source": [
    "## Experimental users"
   ]
  },
  {
   "cell_type": "code",
   "execution_count": null,
   "metadata": {},
   "outputs": [],
   "source": [
    "\n",
    "## this where we save the data? \n",
    "server_path = '/net/s29data/export/data_29idd'\n",
    "\n",
    "path=os.path.join(server_path, '2021_2/NXschool/mda')"
   ]
  },
  {
   "cell_type": "code",
   "execution_count": null,
   "metadata": {},
   "outputs": [],
   "source": [
    "from IEX_29id.devices.kappa_motors import Sync_PI_Motor, Sync_Euler_Motor, Home_SmarAct_Motor\n",
    "from IEX_29id.devices.keithleys import Reset_CA_all\n",
    "from IEX_29id.devices.mono import Reset_Mono_Limits\n",
    "from IEX_29id.scans.setup import Reset_Scan\n",
    "from IEX_29id.utils.status import Get_All, mprint\n",
    "from IEX_29id.utils.plot import plot_image\n",
    "\n",
    "Reset_Scan('Kappa')\n",
    "Reset_CA_all()\n",
    "Reset_Mono_Limits()\n",
    "Home_SmarAct_Motor()\n",
    "Sync_PI_Motor()\n",
    "Sync_Euler_Motor()\n",
    "Get_All(); mprint()   # print current status of the beamline; \n",
    "plot_image('/home/beams/29IDUSER/Documents/User_Folders/Staff/Figures/kappa.png')\n"
   ]
  },
  {
   "cell_type": "code",
   "execution_count": null,
   "metadata": {},
   "outputs": [],
   "source": [
    "## DEFINE DETECTOR\n",
    "from IEX_29id.devices.detectors import set_detector\n",
    "set_detector('d3')"
   ]
  },
  {
   "cell_type": "code",
   "execution_count": null,
   "metadata": {},
   "outputs": [],
   "source": [
    "## SCAN MOTOR\n",
    "from IEX_29id.scans import scantth\n",
    "scantth(-5,5,0.5)   # scan from -5 to 5  by 0.5 steps"
   ]
  },
  {
   "cell_type": "code",
   "execution_count": null,
   "metadata": {},
   "outputs": [],
   "source": [
    "## PLOT TODO\n",
    "#plot_mda(1,33)   # plot scan #1 for detector #33  (big diode)"
   ]
  },
  {
   "cell_type": "code",
   "execution_count": null,
   "metadata": {},
   "outputs": [],
   "source": [
    "from IEX_29id.devices.kappa_motors import mvtth\n",
    "\n",
    "set_detector('d4')\n",
    "mvtth(0)\n",
    "scantth(-0.25,0.25,0.025)\n"
   ]
  },
  {
   "cell_type": "code",
   "execution_count": null,
   "metadata": {},
   "outputs": [],
   "source": [
    "# PLOT TODO\n",
    "#fit_d4(3)\n",
    "#fit_mda(10,34,0.1,'gauss')"
   ]
  },
  {
   "cell_type": "code",
   "execution_count": null,
   "metadata": {},
   "outputs": [],
   "source": [
    "from IEX_29id.devices.kappa_motors import tth0_set\n",
    "from IEX_29id.devices.mirror import align_m3r\n",
    "tth0_set()\n",
    "align_m3r\n"
   ]
  },
  {
   "cell_type": "code",
   "execution_count": null,
   "metadata": {},
   "outputs": [],
   "source": [
    "from IEX_29id.devices.kappa_motors import  mvrchi, mvrphi, mvrth, mvrkth, mvry, mvrx, mvrz, mvrkphi, mvrkth, mvrkap\n",
    "from IEX_29id.scans.kappa_plans import dscanz, dscanx, dscany, dscanth, dscanchi, dscanphi, scankap\n",
    "dscanz(-750,750,50)\n",
    "dscanx(-0.5,0.5,0.05)  \n",
    "dscany(-0.5,0.5,0.05)  \n",
    "dscanth(-0.5,0.5,0.05) \n",
    "dscanchi(-5,5,0.5)\n",
    "dscanphi(-5,5,0.5)\n",
    "mvrchi(0)\n",
    "mvrphi(0)\n",
    "mvrth(0)\n",
    "mvry(0)\n",
    "mvrx(0)\n",
    "mvrz(0)\n",
    "mvrkap(0)\n",
    "mvrkphi(0)\n",
    "mvrkth(0)\n",
    "scankap(-5,5,0.1)\n"
   ]
  },
  {
   "cell_type": "code",
   "execution_count": null,
   "metadata": {},
   "outputs": [],
   "source": [
    "from IEX_29id.devices.kappa_motors import mvz, mvx, mvy, mvth\n",
    "\n",
    "mvz(1967)\n",
    "mvx(0)\n",
    "mvy(0)\n",
    "mvth(0)"
   ]
  },
  {
   "cell_type": "code",
   "execution_count": null,
   "metadata": {},
   "outputs": [],
   "source": [
    "from IEX_29id.scans.kappa_plans import scanx, scany, scanz, scanth, scanchi, scanphi\n",
    "from IEX_29id.devices.kappa_motors import sample\n",
    "scanx(-5000,5000,250)\n",
    "scany(-5000,5000,250)\n",
    "scanz(-5000,5000,250)\n",
    "scanth(-0.5,0.5,0.05)\n",
    "scanchi(-5,5,0.5)\n",
    "scanphi(-5,5,0.5)\n",
    "sample"
   ]
  },
  {
   "cell_type": "code",
   "execution_count": null,
   "metadata": {},
   "outputs": [],
   "source": [
    "from IEX_29id.devices.kappa_motors import uan\n",
    "uan(10,5)"
   ]
  },
  {
   "cell_type": "code",
   "execution_count": null,
   "metadata": {},
   "outputs": [],
   "source": [
    "from IEX_29id.utils.exp import Switch_Branch\n",
    "Switch_Branch()\n"
   ]
  },
  {
   "cell_type": "code",
   "execution_count": null,
   "metadata": {},
   "outputs": [],
   "source": [
    "from IEX_29id.devices.beamline_energy import energy\n",
    "from IEX_29id.scans.energy_plans import scanXAS\n",
    "energy(2570)\n",
    "scanXAS"
   ]
  },
  {
   "cell_type": "code",
   "execution_count": null,
   "metadata": {},
   "outputs": [],
   "source": [
    "from IEX_29id.devices.undulator import polarization\n",
    "polarization('H')"
   ]
  },
  {
   "cell_type": "code",
   "execution_count": null,
   "metadata": {},
   "outputs": [],
   "source": [
    "from IEX_29id.devices.slits import slit, SetSlit_BL\n",
    "# slits\n",
    "slit(100)\n",
    "SetSlit_BL"
   ]
  },
  {
   "cell_type": "code",
   "execution_count": null,
   "metadata": {},
   "outputs": [],
   "source": [
    "from IEX_29id.devices.mono import grating\n",
    "#mono:\n",
    "grating()"
   ]
  }
 ],
 "metadata": {
  "interpreter": {
   "hash": "e686e78fa4f3d308d509deea16dc3f80d85033c3d385d9bed645a575c637f8f3"
  },
  "kernelspec": {
   "display_name": "Python 3 (ipykernel)",
   "language": "python",
   "name": "python3"
  },
  "language_info": {
   "codemirror_mode": {
    "name": "ipython",
    "version": 3
   },
   "file_extension": ".py",
   "mimetype": "text/x-python",
   "name": "python",
   "nbconvert_exporter": "python",
   "pygments_lexer": "ipython3",
   "version": "3.9.7"
  }
 },
 "nbformat": 4,
 "nbformat_minor": 4
}
