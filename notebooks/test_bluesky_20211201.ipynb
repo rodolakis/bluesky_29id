{
 "cells": [
  {
   "cell_type": "code",
   "execution_count": null,
   "metadata": {},
   "outputs": [],
   "source": [
    "#https://git.aps.anl.gov/rodolakis/Macros_29id/-/blob/master/hklpy/Test_Bluesky_20210616.ipynb\n",
    "\n",
    "from apstools.utils import listruns\n",
    "from IEX_29id.utils.initialize import *\n",
    "from IEX_29id.devices.detectors import *\n",
    "from IEX_29id.devices.kappa_motors import *\n",
    "from IEX_29id.devices.beamline_energy import *\n",
    "#import databroker"
   ]
  },
  {
   "cell_type": "code",
   "execution_count": null,
   "metadata": {},
   "outputs": [],
   "source": [
    "cat=databroker.catalog['29idd']"
   ]
  },
  {
   "cell_type": "code",
   "execution_count": null,
   "metadata": {},
   "outputs": [],
   "source": [
    "# setting up baseline:\n",
    "#   - documentation: https://blueskyproject.io/bluesky/tutorial.html#choose-baseline-devices\n",
    "#   - example: https://github.com/BCDA-APS/bluesky_training/blob/main/bluesky/instrument/devices/aps_source.py\n",
    "from IEX_29id.devices.beamline_energy import undulator,mono,aps\n",
    "from IEX_29id.utils.initialize import sd\n",
    "sd.baseline.append(aps)\n",
    "sd.baseline.append(undulator)"
   ]
  },
  {
   "cell_type": "code",
   "execution_count": null,
   "metadata": {},
   "outputs": [],
   "source": []
  },
  {
   "cell_type": "code",
   "execution_count": null,
   "metadata": {},
   "outputs": [],
   "source": [
    "from IEX_29id.devices.detectors import scaler\n",
    "scaler.stage_sigs['preset_time']=1  \n",
    "\n",
    "#`scaler.stage_sigs` is a dictionary.  \n",
    "#The keys are the names of attributes of `scaler`. The values are set before data acquisition. Afterwards, the previous values are restored.\n",
    "#scaler.stage_sigs[\"preset_time\"] = 0.55 will configure the counting time to 0.55s before the scaler is triggered."
   ]
  },
  {
   "cell_type": "code",
   "execution_count": null,
   "metadata": {},
   "outputs": [],
   "source": [
    "#mono.energy.position or undulator.energy.position\n",
    "#   gets mono/id energy\n",
    "\n",
    "#mono.energy.move(800) or undulator.energy.move(0.8)\n",
    "#   move mono/id energy\n",
    "\n",
    "#MoveStatus(done=True, pos=monochromator_energy, elapsed=1.2, success=True, settle_time=0.0)\n",
    "\n",
    "#sts.enum_strs\n",
    "#   returns ('Not Ready', 'Ready', 'Energy Step Move', 'Energy Fly Scan', 'Error')\n",
    "\n",
    "\n",
    "#RE(bp.scan([scaler1,TEYcalc,D3calc,D4calc,MCPcalc],mono.energy,779-10,779+10,21))\n",
    "#   https://nsls-ii.github.io/bluesky/plans.html\n",
    "\n",
    "#listruns()\n",
    "#   list data from databroker\n",
    "\n",
    "# cat[-1].primary.read()['TEYcalc'].plot()\n",
    "# plt.grid(color='lightgrey')\n",
    "#   plot data"
   ]
  }
 ],
 "metadata": {
  "kernelspec": {
   "display_name": "Python 3 (ipykernel)",
   "language": "python",
   "name": "python3"
  },
  "language_info": {
   "codemirror_mode": {
    "name": "ipython",
    "version": 3
   },
   "file_extension": ".py",
   "mimetype": "text/x-python",
   "name": "python",
   "nbconvert_exporter": "python",
   "pygments_lexer": "ipython3",
   "version": "3.9.7"
  }
 },
 "nbformat": 4,
 "nbformat_minor": 4
}
