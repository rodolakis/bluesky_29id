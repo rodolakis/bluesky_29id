{
 "cells": [
  {
   "cell_type": "code",
   "execution_count": null,
   "id": "fcffa373-e687-4138-9d5a-a24c4f4cc338",
   "metadata": {},
   "outputs": [],
   "source": []
  },
  {
   "cell_type": "code",
   "execution_count": 21,
   "id": "04a1da66-eded-479b-a0a3-1e3b4f5035bd",
   "metadata": {},
   "outputs": [
    {
     "name": "stderr",
     "output_type": "stream",
     "text": [
      "I Sun-13:35:29 - ############################################################ startup\n",
      "I Sun-13:35:29 - logging started\n",
      "I Sun-13:35:29 - logging level = 10\n"
     ]
    },
    {
     "name": "stdout",
     "output_type": "stream",
     "text": [
      "['29idd', '29idd_retired_2021_12_01']\n",
      "Number of scans in catalog: 155\n"
     ]
    }
   ],
   "source": [
    "#https://git.aps.anl.gov/rodolakis/Macros_29id/-/blob/master/hklpy/Test_Bluesky_20210616.ipynb\n",
    "# cd /home/beams/29IDUSER/Documents/User_Macros/\n",
    "# %run Macros_29id/ScanFunctions_IEX.py\n",
    "\n",
    "import databroker\n",
    "from apstools.utils import listruns\n",
    "from IEX_29id.utils.initialize import *\n",
    "from IEX_29id.devices.detectors import *\n",
    "from IEX_29id.devices.beamline_energy import *\n",
    "from IEX_29id.devices.kappa_motors import *\n",
    "from IEX_29id.devices.kappa_motors import kappa_motors\n",
    "from IEX_29id.devices.detectors import scaler\n",
    "from IEX_29id.devices.slits import *\n",
    "from bluesky.plans import scan\n",
    "from bluesky.callbacks import LiveTable\n",
    "from bluesky.callbacks.fitting import PeakStats\n",
    "from bluesky.callbacks.mpl_plotting import plot_peak_stats\n",
    "import matplotlib.pyplot as plt\n",
    "import numpy as np\n",
    "import numpy.polynomial.polynomial as poly\n",
    "\n",
    "print(list(databroker.catalog))\n",
    "cat=databroker.catalog['29idd'];print('Number of scans in catalog: '+str(len(cat)))\n",
    "\n",
    "\n",
    "\n",
    "x_motor=kappa_motors.m2\n",
    "y_motor=kappa_motors.m3\n",
    "z_motor=kappa_motors.m4\n",
    "kphi_motor=kappa_motors.m1\n",
    "kap_motor=kappa_motors.m7\n",
    "kth_motor=kappa_motors.m8\n",
    "tth_motor=kappa_motors.m9\n",
    "srs1=srs.A1\n",
    "srs2=srs.A2\n",
    "srs3=srs.A3\n",
    "srs4=srs.A4\n",
    "\n",
    "komega=57.322396707958816   #sample 1\n",
    "komega=57.82183420427256    #sample 2\n",
    "\n",
    "scaler.stage_sigs['preset_time']=0.1\n",
    "\n",
    "sd.baseline.append(undulator)\n",
    "sd.baseline.append(mono)\n",
    "sd.baseline.append(centroid_m3r)\n",
    "sd.baseline.append(x_motor)\n",
    "sd.baseline.append(y_motor)\n",
    "sd.baseline.append(z_motor)\n",
    "sd.baseline.append(tth_motor)\n",
    "sd.baseline.append(kth_motor)\n",
    "sd.baseline.append(kap_motor)\n",
    "sd.baseline.append(kphi_motor)\n",
    "sd.baseline.append(select_detector)\n",
    "sd.baseline.append(srs4)\n",
    "\n",
    "\n"
   ]
  },
  {
   "cell_type": "code",
   "execution_count": 29,
   "id": "aa55cb72-d8ce-44b0-bcbe-74ec0470f634",
   "metadata": {},
   "outputs": [],
   "source": [
    "from os.path import join, isfile, exists, dirname\n",
    "import ast\n",
    "\n",
    "from ophyd import EpicsSignal\n",
    "grating=EpicsSignal('29idmonoGRT_TYPE_MON', name='grating', string=True)\n",
    "density=EpicsSignal('29idmono:GRT_DENSITY', name='grating')\n",
    "\n",
    "\n",
    "\n",
    "\n",
    "\n",
    "\n",
    "def ID_Coef(grt,mode,hv):    # Mode = state (0=RCP,1=LCP,2=V,3=H); \n",
    "    \n",
    "    \"\"\"Return the ID coeff for a given polarization mode and energy;\n",
    "    with Mode = 0 (RCP),1 (LCP), 2 (V), 3 (H).\n",
    "    Current coefficient dictionary:\n",
    "        /home/beams22/29IDUSER/Documents/User_Macros/Macros_29id/IEX_Dictionaries/Dict_IDCal.txt\n",
    "    now:/home/beams3/RODOLAKIS/src/macros_29id/IEX_29id/dict/\n",
    "   \"\"\"\n",
    "    print(grt,mode,hv)\n",
    "    \n",
    "    if isinstance(grt,int): grt  = {1200:'MEG',2400:'HEG'}[grt]\n",
    "    if isinstance(mode,str):mode = {'RCP':0,'LCP':1,'V':2,'H':3}[mode]\n",
    "    \n",
    "    def read_dict(FileName,FilePath=\"/home/beams3/RODOLAKIS/src/macros_29id/IEX_29id/dict/\"):\n",
    "        with open(join(FilePath, FileName)) as f:\n",
    "            for c,line in enumerate(f.readlines()):\n",
    "                if line[0] == '=':\n",
    "                    lastdate=line[8:16]\n",
    "                lastline=line\n",
    "            mydict=ast.literal_eval(lastline)\n",
    "        return mydict\n",
    "\n",
    "    \n",
    "    def ListRange(grt,mode,IDdict):  # extract the list of break pts for a given mode/grt \n",
    "        tmp_list=[]\n",
    "        for item in (IDdict[grt][mode]):\n",
    "            tmp_list.append(item[0])  \n",
    "        return tmp_list\n",
    "\n",
    "\n",
    "    def FindRange(hv,range_list):         # returns the index for the corresponding range\n",
    "        B = [x - hv for x in range_list]\n",
    "        index = [i for (i, x) in enumerate(B) if x > 0]\n",
    "        return(index[0])\n",
    "    \n",
    "    try:\n",
    "        #FRPath = '/Users/fannysimoes/Box/6-Python/MyPython/Macros_29id/'   #   FR hardcoded\n",
    "        ID_function=read_dict(FileName='Dict_IDCal.txt')\n",
    "    \n",
    "    except KeyError:\n",
    "        print(\"Unable to read dictionary\") \n",
    "        \n",
    "    try:   \n",
    "        Lrange = ListRange(grt,mode,ID_function)\n",
    "        Erange = FindRange(hv,Lrange)\n",
    "        K = ID_function[grt][mode][Erange][1]\n",
    "        \n",
    "    except KeyError:\n",
    "        print(\"WARNING: PLease select one of the following:\")\n",
    "        print(\"        mode 0 = RCP\")\n",
    "        print(\"        mode 1 = LCP\")\n",
    "        print(\"        mode 2 = V\")\n",
    "        print(\"        mode 3 = H\")\n",
    "        \n",
    "    return K\n",
    "\n",
    "\n",
    "\n",
    "def ID_Calc(grt,mode,hv):    # Mode = state (0=RCP,1=LCP,2=V,3=H)\n",
    "    \"\"\"Calculate the ID SP for a given polarization mode and energy;\n",
    "    with Mode = 0 (RCP),1 (LCP), 2 (V), 3 (H)\"\"\"\n",
    "    if isinstance(grt,int): grt  = {1200:'MEG',2400:'HEG'}[grt]\n",
    "    if isinstance(mode,str):mode = {'RCP':0,'LCP':1,'V':2,'H':3}[mode]\n",
    "    try:\n",
    "        K=ID_Coef(grt,mode,hv)\n",
    "        #ID = K[0] + K[1]*hv**1 + K[2]*hv**2 + K[3]*hv**3 + K[4]*hv**4 + K[5]*hv**5\n",
    "        ID=poly.polyval(hv,K)\n",
    "    except KeyError:\n",
    "        print(\"WARNING: PLease select one of the following:\")\n",
    "        print(\"        mode 0 = RCP\")\n",
    "        print(\"        mode 1 = LCP\")\n",
    "        print(\"        mode 2 = V\")\n",
    "        print(\"        mode 3 = H\")\n",
    "        ID=caget(\"ID29:EnergySeteV\")\n",
    "    return round(ID,1)\n",
    "\n",
    "\n",
    "def SetRange(hv):\n",
    "    Mode=caget(\"ID29:ActualMode\")\n",
    "    hv_min=ID_Range()[1]\n",
    "    hv_max=ID_Range()[2]\n",
    "    sleep(0.1)\n",
    "    hv_SP=min(round(max(hv,hv_min)*1.0,3),hv_max)*1.0\n",
    "    sleep(0.1)\n",
    "#    if round(hv,1) != hv_SP:\n",
    "    if hv < hv_min or hv > hv_max:\n",
    "        print(\"\\nWARNING: Set point out of BL energy range:\")\n",
    "    return hv_SP\n",
    "\n",
    "\n",
    "\n",
    "# def ID_Range():      # mode = state (0=RCP,1=LCP,2=V,3=H)\n",
    "#     #Mode=caget(\"ID29:ActualMode\")\n",
    "#     mode=undulator.actual_mode.get()\n",
    "#     #GRT=caget(\"29idmono:GRT_DENSITY\")\n",
    "#     grt=density.get()\n",
    "#     ID_min=[400,400,440,250,250]\n",
    "#     ID_max=3800\n",
    "#     hv_min=[380,380,420,245,240]\n",
    "#     if grt == 2400:\n",
    "#         hv_max=2000\n",
    "#     elif grt == 1200:\n",
    "#         hv_max=3000\n",
    "#     return ID_min[mode],hv_min[mode],hv_max,ID_max\n",
    "\n",
    "\n",
    "# def Energy_Range(grating_density,undulator_mode):\n",
    "#     BL_range={}    #   Slit:PE\n",
    "#     BL_range[2400]  = { \"H\":(250,2000), \"V\":(440,2000), \"RCP\":(400,2000), \"LCP\":(400,2000)  }\n",
    "#     BL_range[1200]  = { \"H\":(250,2500), \"V\":(440,2500), \"RCP\":(400,2500), \"LCP\":(400,2500) }\n",
    "#     energy_min, energy_max = BL_range[grating_density][undulator_mode]\n",
    "#     return energy_min, energy_max\n",
    "\n",
    "\n",
    "\n",
    "\n"
   ]
  },
  {
   "cell_type": "code",
   "execution_count": 5,
   "id": "d4f106f1-14eb-422d-92d3-4e46451c42c9",
   "metadata": {},
   "outputs": [
    {
     "data": {
      "text/plain": [
       "{'HEG': {'S1H': -0.125, 'S1V': 0.0, 'S2H': -0.25, 'S2V': -0.25},\n",
       " 'MEG': {'S1H': 0.125, 'S1V': 0.0, 'S2H': -0.25, 'S2V': 0.0}}"
      ]
     },
     "execution_count": 5,
     "metadata": {},
     "output_type": "execute_result"
    }
   ],
   "source": [
    "read_dict('Dict_Slit.txt')"
   ]
  },
  {
   "cell_type": "code",
   "execution_count": 6,
   "id": "3f4d318d-4af3-4d9b-8e86-1096aecfe212",
   "metadata": {},
   "outputs": [],
   "source": [
    "from ophyd import EpicsSignal\n",
    "grating=EpicsSignal('29idmonoGRT_TYPE_MON', name='grating', string=True)\n",
    "density=EpicsSignal('29idmono:GRT_DENSITY', name='grating')"
   ]
  },
  {
   "cell_type": "code",
   "execution_count": 7,
   "id": "e8c8c273-0c21-405a-a549-e8503951aa79",
   "metadata": {},
   "outputs": [
    {
     "data": {
      "text/plain": [
       "1200.0"
      ]
     },
     "execution_count": 7,
     "metadata": {},
     "output_type": "execute_result"
    }
   ],
   "source": [
    "density.get()"
   ]
  },
  {
   "cell_type": "code",
   "execution_count": 8,
   "id": "8903f6e8-20b8-4820-ba56-04b6c0c854cf",
   "metadata": {},
   "outputs": [
    {
     "data": {
      "text/plain": [
       "2"
      ]
     },
     "execution_count": 8,
     "metadata": {},
     "output_type": "execute_result"
    }
   ],
   "source": [
    "undulator.actual_mode.get()"
   ]
  },
  {
   "cell_type": "code",
   "execution_count": 44,
   "id": "b55136c5-bd90-4217-8c18-d2b2e1b52693",
   "metadata": {},
   "outputs": [
    {
     "data": {
      "text/plain": [
       "1200.0"
      ]
     },
     "execution_count": 44,
     "metadata": {},
     "output_type": "execute_result"
    }
   ],
   "source": [
    "mono.grating_density.value"
   ]
  },
  {
   "cell_type": "code",
   "execution_count": 15,
   "id": "27d17156-65b4-4f20-b6e4-9b9312312776",
   "metadata": {},
   "outputs": [
    {
     "name": "stdout",
     "output_type": "stream",
     "text": [
      "yes\n"
     ]
    }
   ],
   "source": [
    "if isinstance(Out[11],str): \n",
    "    print('yes')"
   ]
  },
  {
   "cell_type": "code",
   "execution_count": 16,
   "id": "fae6c417-a867-4365-8c56-9563967eecfe",
   "metadata": {},
   "outputs": [],
   "source": [
    "if isinstance(Out[14],str): \n",
    "    print('yes')"
   ]
  },
  {
   "cell_type": "code",
   "execution_count": 39,
   "id": "23ea535b-a59f-49f7-81c6-d34081a31d0e",
   "metadata": {},
   "outputs": [],
   "source": [
    "mode=undulator.actual_mode_str.get()"
   ]
  },
  {
   "cell_type": "code",
   "execution_count": 40,
   "id": "fec25ff4-3494-46d7-9669-9a8454f60567",
   "metadata": {},
   "outputs": [
    {
     "data": {
      "text/plain": [
       "'V'"
      ]
     },
     "execution_count": 40,
     "metadata": {},
     "output_type": "execute_result"
    }
   ],
   "source": [
    "mode"
   ]
  },
  {
   "cell_type": "code",
   "execution_count": 44,
   "id": "291ec1af-9910-4acb-8896-51cac8911111",
   "metadata": {},
   "outputs": [],
   "source": [
    "mode=undulator.actual_mode.get()"
   ]
  },
  {
   "cell_type": "code",
   "execution_count": 42,
   "id": "acb1886c-e34e-4109-ad72-8a28a581c755",
   "metadata": {},
   "outputs": [
    {
     "data": {
      "text/plain": [
       "2"
      ]
     },
     "execution_count": 42,
     "metadata": {},
     "output_type": "execute_result"
    }
   ],
   "source": [
    "mode"
   ]
  },
  {
   "cell_type": "code",
   "execution_count": 45,
   "id": "f428c1ae-6ff3-43ac-ac27-3ec545b6b4c6",
   "metadata": {},
   "outputs": [
    {
     "data": {
      "text/plain": [
       "()"
      ]
     },
     "execution_count": 45,
     "metadata": {},
     "output_type": "execute_result"
    }
   ],
   "source": [
    "RE(bps.mv(mono.energy,685))"
   ]
  },
  {
   "cell_type": "code",
   "execution_count": 19,
   "id": "d7332921-7f7f-411b-a83a-2efcf9ebd014",
   "metadata": {},
   "outputs": [
    {
     "data": {
      "text/plain": [
       "(440, 430, 3000, 3800)"
      ]
     },
     "execution_count": 19,
     "metadata": {},
     "output_type": "execute_result"
    }
   ],
   "source": [
    "ID_Range()"
   ]
  },
  {
   "cell_type": "code",
   "execution_count": 21,
   "id": "fe68026f-57e6-4337-8f1f-e7e658f85ccd",
   "metadata": {},
   "outputs": [
    {
     "data": {
      "text/plain": [
       "[-604.5006436697821,\n",
       " 3.0530278050672597,\n",
       " 0.0006285185258970196,\n",
       " -7.876285868395855e-06,\n",
       " 6.618688516815772e-09]"
      ]
     },
     "execution_count": 21,
     "metadata": {},
     "output_type": "execute_result"
    }
   ],
   "source": [
    "ID_Coef('MEG',2,536)"
   ]
  },
  {
   "cell_type": "code",
   "execution_count": 27,
   "id": "714a2998-66cb-4b88-9002-043bb865de7c",
   "metadata": {},
   "outputs": [
    {
     "name": "stdout",
     "output_type": "stream",
     "text": [
      "1200 2 680\n"
     ]
    },
    {
     "data": {
      "text/plain": [
       "692.7"
      ]
     },
     "execution_count": 27,
     "metadata": {},
     "output_type": "execute_result"
    }
   ],
   "source": [
    "ID_Calc(1200,2,680)"
   ]
  },
  {
   "cell_type": "code",
   "execution_count": 27,
   "id": "8d2f0667-2832-48fd-a269-0fb624595238",
   "metadata": {},
   "outputs": [
    {
     "data": {
      "text/plain": [
       "('29id:k_slit1A', (2.3325, -0.000936, 2.4e-07, 2.3935, -0.0013442, 3.18e-07))"
      ]
     },
     "execution_count": 27,
     "metadata": {},
     "output_type": "execute_result"
    }
   ],
   "source": [
    "Slit_Coef(1)"
   ]
  },
  {
   "cell_type": "code",
   "execution_count": 28,
   "id": "33042a8c-3c10-4387-ac93-52b456225ea1",
   "metadata": {},
   "outputs": [
    {
     "data": {
      "text/plain": [
       "('29id:k_slit2B', (3.61, -0.00186, 5.2e-07, 6.8075, -0.003929, 9.5e-07))"
      ]
     },
     "execution_count": 28,
     "metadata": {},
     "output_type": "execute_result"
    }
   ],
   "source": [
    "Slit_Coef(2)"
   ]
  },
  {
   "cell_type": "code",
   "execution_count": 38,
   "id": "194a4774-b48e-4f94-a084-3f445a7a2bee",
   "metadata": {},
   "outputs": [
    {
     "data": {
      "text/plain": [
       "MonoEnergy(prefix='29idmono:', name='mono_energy', parent='mono', settle_time=0.0, timeout=None, read_attrs=['setpoint', 'readback'], configuration_attrs=[], limits=None, egu='')"
      ]
     },
     "execution_count": 38,
     "metadata": {},
     "output_type": "execute_result"
    }
   ],
   "source": [
    "mono.energy"
   ]
  },
  {
   "cell_type": "code",
   "execution_count": 38,
   "id": "ac87269d-449c-4c60-adc2-51aa78568967",
   "metadata": {},
   "outputs": [
    {
     "data": {
      "text/plain": [
       "1200.0"
      ]
     },
     "execution_count": 38,
     "metadata": {},
     "output_type": "execute_result"
    }
   ],
   "source": [
    "density.value"
   ]
  },
  {
   "cell_type": "code",
   "execution_count": 42,
   "id": "3c7953dc-f061-4fd8-84b2-93e672f539b8",
   "metadata": {},
   "outputs": [],
   "source": [
    "def SetSlit_BL(c2B=1,c1A=1,q=None):\n",
    "\n",
    "    RBV = mono.energy.readback.value\n",
    "    GRT= density.value\n",
    "    \n",
    "    hv=max(RBV,500)\n",
    "    hv=min(RBV,2000)\n",
    "    c=4.2/2.2\n",
    "\n",
    "    if GRT==1200:\n",
    "        GRT='MEG'\n",
    "        V=0.65        #  set to 65% of RR calculation for both grt => cf 2016_2_summary\n",
    "    elif GRT==2400:\n",
    "        GRT='HEG'\n",
    "        V=0.65*c        #  set to 65% of RR calculation (no longer 80%) => cf 2016_2_summary\n",
    "\n",
    "    try:\n",
    "        slit_position=read_dict(FileName='Dict_Slit.txt')\n",
    "    except KeyError:\n",
    "        print(\"Unable to read dictionary\")\n",
    "        return\n",
    "\n",
    "    V2center= slit_position[GRT]['S2V']\n",
    "    H2center= slit_position[GRT]['S2H']\n",
    "    V1center= slit_position[GRT]['S1V']\n",
    "    H1center= slit_position[GRT]['S1H']\n",
    "\n",
    "    Size1A=( Aperture_Fit(hv,1)[0]*c1A,       Aperture_Fit(hv,1)[1]*c1A )\n",
    "    Size2B=( Aperture_Fit(hv,2)[0]*c2B, round(Aperture_Fit(hv,2)[1]*c2B*V,3))\n",
    "    #SetSlit1A(Size1A[0],Size1A[1],H1center,V1center,q)    # standard operating\n",
    "    #SetSlit2B(Size2B[0],Size2B[1],H2center,V2center,q)\n",
    "    return Size1A, Size2B\n",
    "\n",
    "\n",
    "def Aperture_Fit(hv,n):\n",
    "    K=Slit_Coef(n)[1]\n",
    "    sizeH=K[0]+K[1]*hv+K[2]*hv*hv\n",
    "    sizeV=K[3]+K[4]*hv+K[5]*hv*hv\n",
    "    return [round(sizeH,3),round(sizeV,3)]\n"
   ]
  },
  {
   "cell_type": "code",
   "execution_count": 43,
   "id": "57b4afbf-4904-4bdf-a111-a223e5b685dc",
   "metadata": {},
   "outputs": [
    {
     "data": {
      "text/plain": [
       "((1.901, 1.767), (2.766, 3.238))"
      ]
     },
     "execution_count": 43,
     "metadata": {},
     "output_type": "execute_result"
    }
   ],
   "source": [
    "SetSlit_BL(1)"
   ]
  },
  {
   "cell_type": "code",
   "execution_count": 2,
   "id": "dd66f30c-88bc-4ab5-b4ae-5c003a78e94f",
   "metadata": {},
   "outputs": [
    {
     "data": {
      "text/plain": [
       "(1.901, 1.767, 0.125, 0.0, 2.0745, 2.429, -0.25, 0.0)"
      ]
     },
     "execution_count": 2,
     "metadata": {},
     "output_type": "execute_result"
    }
   ],
   "source": [
    "slits_calc(0.75)"
   ]
  },
  {
   "cell_type": "code",
   "execution_count": 4,
   "id": "92aac9d4-642a-4223-a856-0346a8c50bbf",
   "metadata": {},
   "outputs": [
    {
     "data": {
      "text/plain": [
       "()"
      ]
     },
     "execution_count": 4,
     "metadata": {},
     "output_type": "execute_result"
    }
   ],
   "source": [
    "RE(slitBL_set(1))"
   ]
  },
  {
   "cell_type": "code",
   "execution_count": 8,
   "id": "cf46cab9-ae1f-474e-bc60-0cd98ae7f594",
   "metadata": {},
   "outputs": [],
   "source": [
    "GRT=1200\n",
    "c=4.2/2.2"
   ]
  },
  {
   "cell_type": "code",
   "execution_count": 9,
   "id": "6efd4ace-ba43-43ca-9047-4a656eb4eff9",
   "metadata": {},
   "outputs": [],
   "source": [
    "GRT,V={1200:('MEG',0.65),2400:('HEG',0.65*c)}[GRT]"
   ]
  },
  {
   "cell_type": "code",
   "execution_count": 10,
   "id": "38a345c7-e531-452b-85ad-33e4d9fad5a5",
   "metadata": {},
   "outputs": [
    {
     "data": {
      "text/plain": [
       "'MEG'"
      ]
     },
     "execution_count": 10,
     "metadata": {},
     "output_type": "execute_result"
    }
   ],
   "source": [
    "GRT"
   ]
  },
  {
   "cell_type": "code",
   "execution_count": 11,
   "id": "1540fdcf-db03-4452-893f-756cdf557d9a",
   "metadata": {},
   "outputs": [
    {
     "data": {
      "text/plain": [
       "0.65"
      ]
     },
     "execution_count": 11,
     "metadata": {},
     "output_type": "execute_result"
    }
   ],
   "source": [
    "V"
   ]
  },
  {
   "cell_type": "code",
   "execution_count": null,
   "id": "a358b73d-f2de-4d8e-9260-d892050eee0b",
   "metadata": {},
   "outputs": [],
   "source": [
    "v={0:1,1:2,2:5,3:10,4:20,5:50,6:100,7:200,8:500}\n",
    "u={0:'pA',1:'nA',2:'uA',4:'mA'}"
   ]
  },
  {
   "cell_type": "code",
   "execution_count": null,
   "id": "bcbce51d-3c6a-4b29-acdb-15a9c35d45b3",
   "metadata": {},
   "outputs": [],
   "source": []
  },
  {
   "cell_type": "code",
   "execution_count": 17,
   "id": "fd4bbc47-e572-490a-95d6-3b922e6787a2",
   "metadata": {
    "tags": []
   },
   "outputs": [],
   "source": [
    "\n",
    "def d4_gain_set(gain_value,gain_unit,n=4):\n",
    "    v={1:0,2:1,5:2,10:3,20:4,50:5,100:6,200:7,500:8}[gain_value]\n",
    "    u={'pA':0,'nA':1,'uA':2,'mA':4}[gain_unit]\n",
    "    if n==1:\n",
    "        srs1.sensitivity_unit.put(u); RE(bps.sleep(1));u=srs1.sensitivity_unit.get()\n",
    "        srs1.sensitivity_value.put(v);RE(bps.sleep(1));v=srs1.sensitivity_value.get()\n",
    "    elif n==2:\n",
    "        srs2.sensitivity_unit.put(u); RE(bps.sleep(1));u=srs2.sensitivity_unit.get()\n",
    "        srs2.sensitivity_value.put(v);RE(bps.sleep(1));v=srs2.sensitivity_value.get()\n",
    "    elif n==3:\n",
    "        srs3.sensitivity_unit.put(u); RE(bps.sleep(1));u=srs3.sensitivity_unit.get()\n",
    "        srs3.sensitivity_value.put(v);RE(bps.sleep(1));v=srs3.sensitivity_value.get()\n",
    "    elif n==4:\n",
    "        srs4.sensitivity_unit.put(u); RE(bps.sleep(1));u=srs4.sensitivity_unit.get()\n",
    "        srs4.sensitivity_value.put(v);RE(bps.sleep(1));v=srs4.sensitivity_value.get()\n",
    "    print('SRS',n,':',v,u)"
   ]
  },
  {
   "cell_type": "code",
   "execution_count": 19,
   "id": "e0c53cd8-b1e4-488f-8a54-a9de598e99b4",
   "metadata": {},
   "outputs": [
    {
     "name": "stdout",
     "output_type": "stream",
     "text": [
      "1200 0 520\n"
     ]
    },
    {
     "data": {
      "text/plain": [
       "[-5940.176848239725,\n",
       " 48.30636368582396,\n",
       " -0.14075467796987542,\n",
       " 0.00018579017325356665,\n",
       " -9.17653113254405e-08]"
      ]
     },
     "execution_count": 19,
     "metadata": {},
     "output_type": "execute_result"
    }
   ],
   "source": [
    "ID_Coef(1200,0,520)"
   ]
  },
  {
   "cell_type": "code",
   "execution_count": 20,
   "id": "499c2a8f-4bdd-493b-8f7d-52510b9d025f",
   "metadata": {},
   "outputs": [
    {
     "name": "stdout",
     "output_type": "stream",
     "text": [
      "1200 0 520\n"
     ]
    },
    {
     "ename": "NameError",
     "evalue": "name 'poly' is not defined",
     "output_type": "error",
     "traceback": [
      "\u001b[0;31m---------------------------------------------------------------------------\u001b[0m",
      "\u001b[0;31mNameError\u001b[0m                                 Traceback (most recent call last)",
      "\u001b[0;32m/tmp/ipykernel_19938/3344085538.py\u001b[0m in \u001b[0;36m<module>\u001b[0;34m\u001b[0m\n\u001b[0;32m----> 1\u001b[0;31m \u001b[0mID_Calc\u001b[0m\u001b[0;34m(\u001b[0m\u001b[0;36m1200\u001b[0m\u001b[0;34m,\u001b[0m\u001b[0;36m0\u001b[0m\u001b[0;34m,\u001b[0m\u001b[0;36m520\u001b[0m\u001b[0;34m)\u001b[0m\u001b[0;34m\u001b[0m\u001b[0;34m\u001b[0m\u001b[0m\n\u001b[0m",
      "\u001b[0;32m/tmp/ipykernel_19938/400341193.py\u001b[0m in \u001b[0;36mID_Calc\u001b[0;34m(grt, mode, hv)\u001b[0m\n\u001b[1;32m     75\u001b[0m         \u001b[0mK\u001b[0m\u001b[0;34m=\u001b[0m\u001b[0mID_Coef\u001b[0m\u001b[0;34m(\u001b[0m\u001b[0mgrt\u001b[0m\u001b[0;34m,\u001b[0m\u001b[0mmode\u001b[0m\u001b[0;34m,\u001b[0m\u001b[0mhv\u001b[0m\u001b[0;34m)\u001b[0m\u001b[0;34m\u001b[0m\u001b[0;34m\u001b[0m\u001b[0m\n\u001b[1;32m     76\u001b[0m         \u001b[0;31m#ID = K[0] + K[1]*hv**1 + K[2]*hv**2 + K[3]*hv**3 + K[4]*hv**4 + K[5]*hv**5\u001b[0m\u001b[0;34m\u001b[0m\u001b[0;34m\u001b[0m\u001b[0m\n\u001b[0;32m---> 77\u001b[0;31m         \u001b[0mID\u001b[0m\u001b[0;34m=\u001b[0m\u001b[0mpoly\u001b[0m\u001b[0;34m.\u001b[0m\u001b[0mpolyval\u001b[0m\u001b[0;34m(\u001b[0m\u001b[0mhv\u001b[0m\u001b[0;34m,\u001b[0m\u001b[0mK\u001b[0m\u001b[0;34m)\u001b[0m\u001b[0;34m\u001b[0m\u001b[0;34m\u001b[0m\u001b[0m\n\u001b[0m\u001b[1;32m     78\u001b[0m     \u001b[0;32mexcept\u001b[0m \u001b[0mKeyError\u001b[0m\u001b[0;34m:\u001b[0m\u001b[0;34m\u001b[0m\u001b[0;34m\u001b[0m\u001b[0m\n\u001b[1;32m     79\u001b[0m         \u001b[0mprint\u001b[0m\u001b[0;34m(\u001b[0m\u001b[0;34m\"WARNING: PLease select one of the following:\"\u001b[0m\u001b[0;34m)\u001b[0m\u001b[0;34m\u001b[0m\u001b[0;34m\u001b[0m\u001b[0m\n",
      "\u001b[0;31mNameError\u001b[0m: name 'poly' is not defined"
     ]
    }
   ],
   "source": [
    "ID_Calc(1200,0,520)"
   ]
  },
  {
   "cell_type": "code",
   "execution_count": 36,
   "id": "3c8749b4-8bcc-464a-a51c-fb5f030a1b2e",
   "metadata": {},
   "outputs": [],
   "source": [
    "\n",
    "\n",
    "\n",
    "\n",
    "def id_coef(grt,mode,hv):    # Mode = state (0=RCP,1=LCP,2=V,3=H); \n",
    "    \n",
    "    \"\"\"Return the ID coeff for a given polarization mode and energy;\n",
    "    with Mode = 0 (RCP),1 (LCP), 2 (V), 3 (H).\n",
    "    Current coefficient dictionary:\n",
    "        /home/beams22/29IDUSER/Documents/User_Macros/Macros_29id/IEX_Dictionaries/Dict_IDCal.txt\n",
    "    now:/home/beams3/RODOLAKIS/src/macros_29id/IEX_29id/dict/\n",
    "    \"\"\"\n",
    "    \n",
    "    if isinstance(grt,int): grt  = {1200:'MEG',2400:'HEG'}[grt]\n",
    "    if isinstance(mode,str):mode = {'RCP':0,'LCP':1,'V':2,'H':3}[mode]\n",
    "    \n",
    "    def read_dict(FileName,FilePath=\"/home/beams3/RODOLAKIS/src/macros_29id/IEX_29id/dict/\"):\n",
    "        with open(join(FilePath, FileName)) as f:\n",
    "            for c,line in enumerate(f.readlines()):\n",
    "                if line[0] == '=':\n",
    "                    lastdate=line[8:16]\n",
    "                lastline=line\n",
    "            mydict=ast.literal_eval(lastline)\n",
    "        return mydict\n",
    "\n",
    "    \n",
    "    def list_range(grt,mode,IDdict):  # extract the list of break pts for a given mode/grt \n",
    "        tmp_list=[]\n",
    "        for item in (IDdict[grt][mode]):\n",
    "            tmp_list.append(item[0])  \n",
    "        return tmp_list\n",
    "\n",
    "\n",
    "    def find_range(hv,range_list):         # returns the index for the corresponding range\n",
    "        B = [x - hv for x in range_list]\n",
    "        index = [i for (i, x) in enumerate(B) if x > 0]\n",
    "        return(index[0])\n",
    "    \n",
    "    try:\n",
    "        #FRPath = '/Users/fannysimoes/Box/6-Python/MyPython/Macros_29id/'   #   FR hardcoded\n",
    "        ID_function=read_dict(FileName='Dict_IDCal.txt')\n",
    "    \n",
    "    except KeyError:\n",
    "        print(\"Unable to read dictionary\") \n",
    "        \n",
    "    try:   \n",
    "        Lrange = list_range(grt,mode,ID_function)\n",
    "        Erange = find_range(hv,Lrange)\n",
    "        K = ID_function[grt][mode][Erange][1]\n",
    "        \n",
    "    except KeyError:\n",
    "        print(\"WARNING: PLease select one of the following:\")\n",
    "        print(\"        mode 0 = RCP\")\n",
    "        print(\"        mode 1 = LCP\")\n",
    "        print(\"        mode 2 = V\")\n",
    "        print(\"        mode 3 = H\")\n",
    "        \n",
    "    return K\n",
    "\n",
    "\n",
    "\n",
    "\n",
    "def id_calc(grt,mode,hv):    # Mode = state (0=RCP,1=LCP,2=V,3=H)\n",
    "    \"\"\"Calculate the ID SP for a given polarization mode and energy;\n",
    "    with Mode = 0 (RCP),1 (LCP), 2 (V), 3 (H)\"\"\"\n",
    "    if isinstance(grt,int): grt  = {1200:'MEG',2400:'HEG'}[grt]\n",
    "    if isinstance(mode,str):mode = {'RCP':0,'LCP':1,'V':2,'H':3}[mode]\n",
    "    try:\n",
    "        K=id_coef(grt,mode,hv)\n",
    "        #ID = K[0] + K[1]*hv**1 + K[2]*hv**2 + K[3]*hv**3 + K[4]*hv**4 + K[5]*hv**5\n",
    "        ID=poly.polyval(hv,K)\n",
    "    except KeyError:\n",
    "        ID=0\n",
    "        print('KeyError')\n",
    "    return round(ID/1000,4)\n",
    "\n"
   ]
  },
  {
   "cell_type": "code",
   "execution_count": 37,
   "id": "70667c37-2b30-41b8-9120-468b533e2bea",
   "metadata": {},
   "outputs": [
    {
     "data": {
      "text/plain": [
       "0.6968"
      ]
     },
     "execution_count": 37,
     "metadata": {},
     "output_type": "execute_result"
    }
   ],
   "source": [
    "id_calc(1200,3,680)"
   ]
  },
  {
   "cell_type": "code",
   "execution_count": 49,
   "id": "6fb0593a-9892-4d7b-ba1b-61839b99eae6",
   "metadata": {},
   "outputs": [],
   "source": [
    "align_m3r.put(1)"
   ]
  },
  {
   "cell_type": "code",
   "execution_count": 51,
   "id": "47063224-dd21-4207-9880-d3a0c451973e",
   "metadata": {},
   "outputs": [
    {
     "data": {
      "text/plain": [
       "()"
      ]
     },
     "execution_count": 51,
     "metadata": {},
     "output_type": "execute_result"
    }
   ],
   "source": [
    "RE(bps.mv(align_m3r,1))"
   ]
  },
  {
   "cell_type": "code",
   "execution_count": 52,
   "id": "60f49c2c-cd0a-43dd-9259-3ce3495b2610",
   "metadata": {},
   "outputs": [],
   "source": [
    "\n",
    "\n",
    "def id_coef(grt,mode,hv):    # Mode = state (0=RCP,1=LCP,2=V,3=H); \n",
    "    \n",
    "    \"\"\"Return the ID coeff for a given polarization mode and energy;\n",
    "    with Mode = 0 (RCP),1 (LCP), 2 (V), 3 (H).\n",
    "    Current coefficient dictionary:\n",
    "        /home/beams22/29IDUSER/Documents/User_Macros/Macros_29id/IEX_Dictionaries/Dict_IDCal.txt\n",
    "    now:/home/beams3/RODOLAKIS/src/macros_29id/IEX_29id/dict/\n",
    "   \"\"\"\n",
    "    print(grt,mode,hv)\n",
    "    \n",
    "    if isinstance(grt,int): grt  = {1200:'MEG',2400:'HEG'}[grt]\n",
    "    if isinstance(mode,str):mode = {'RCP':0,'LCP':1,'V':2,'H':3}[mode]\n",
    "    \n",
    "    def read_dict(FileName,FilePath=\"/home/beams3/RODOLAKIS/src/macros_29id/IEX_29id/dict/\"):\n",
    "        with open(join(FilePath, FileName)) as f:\n",
    "            for c,line in enumerate(f.readlines()):\n",
    "                if line[0] == '=':\n",
    "                    lastdate=line[8:16]\n",
    "                lastline=line\n",
    "            mydict=ast.literal_eval(lastline)\n",
    "        return mydict\n",
    "\n",
    "    \n",
    "    def list_range(grt,mode,IDdict):  # extract the list of break pts for a given mode/grt \n",
    "        tmp_list=[]\n",
    "        for item in (IDdict[grt][mode]):\n",
    "            tmp_list.append(item[0])  \n",
    "        return tmp_list\n",
    "\n",
    "\n",
    "    def find_range(hv,range_list):         # returns the index for the corresponding range\n",
    "        B = [x - hv for x in range_list]\n",
    "        index = [i for (i, x) in enumerate(B) if x > 0]\n",
    "        return(index[0])\n",
    "    \n",
    "    try:\n",
    "        #FRPath = '/Users/fannysimoes/Box/6-Python/MyPython/Macros_29id/'   #   FR hardcoded\n",
    "        ID_function=read_dict(FileName='Dict_IDCal.txt')\n",
    "    \n",
    "    except KeyError:\n",
    "        print(\"Unable to read dictionary\") \n",
    "        \n",
    "    try:   \n",
    "        Lrange = list_range(grt,mode,ID_function)\n",
    "        Erange = find_range(hv,Lrange)\n",
    "        K = ID_function[grt][mode][Erange][1]\n",
    "        \n",
    "    except KeyError:\n",
    "        print(\"WARNING: PLease select one of the following:\")\n",
    "        print(\"        mode 0 = RCP\")\n",
    "        print(\"        mode 1 = LCP\")\n",
    "        print(\"        mode 2 = V\")\n",
    "        print(\"        mode 3 = H\")\n",
    "        \n",
    "    return K\n",
    "\n"
   ]
  },
  {
   "cell_type": "code",
   "execution_count": 53,
   "id": "f1d14cab-2145-481b-8d67-a5bf11f0b88e",
   "metadata": {},
   "outputs": [
    {
     "name": "stdout",
     "output_type": "stream",
     "text": [
      "MEG 0 555\n"
     ]
    },
    {
     "data": {
      "text/plain": [
       "[-5940.176848239725,\n",
       " 48.30636368582396,\n",
       " -0.14075467796987542,\n",
       " 0.00018579017325356665,\n",
       " -9.17653113254405e-08]"
      ]
     },
     "execution_count": 53,
     "metadata": {},
     "output_type": "execute_result"
    }
   ],
   "source": [
    "id_coef('MEG',0,555)"
   ]
  },
  {
   "cell_type": "code",
   "execution_count": null,
   "id": "f350346a-fc1f-4ab4-a438-40799b099571",
   "metadata": {},
   "outputs": [],
   "source": []
  }
 ],
 "metadata": {
  "kernelspec": {
   "display_name": "Python 3 (ipykernel)",
   "language": "python",
   "name": "python3"
  },
  "language_info": {
   "codemirror_mode": {
    "name": "ipython",
    "version": 3
   },
   "file_extension": ".py",
   "mimetype": "text/x-python",
   "name": "python",
   "nbconvert_exporter": "python",
   "pygments_lexer": "ipython3",
   "version": "3.9.7"
  }
 },
 "nbformat": 4,
 "nbformat_minor": 5
}
